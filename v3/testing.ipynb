{
 "cells": [
  {
   "cell_type": "code",
   "execution_count": null,
   "metadata": {},
   "outputs": [],
   "source": [
    "import process_data\n",
    "import utils\n",
    "import numpy as np\n",
    "import eval\n",
    "import data\n",
    "import model\n",
    "import torch\n",
    "import modernUnet"
   ]
  },
  {
   "cell_type": "code",
   "execution_count": null,
   "metadata": {},
   "outputs": [],
   "source": [
    "gta_root = 'E:/GTA5'\n",
    "\n",
    "train_set, val_set = data.loadData(root=\"E:/CityScapes\", subsize=(256,512), flip=False ,verbose=True)\n",
    "#train_set, val_set = data.loadGTAData(root=gta_root, subsize=(256,512),verbose=True)\n",
    "\n",
    "train_dl, val_dl = data.getDataLoader(train_set=train_set, val_set=val_set, batch_size=8)\n",
    "\n",
    "#model = model.Model()\n",
    "model = modernUnet.MUN()\n",
    "model.load_state_dict(torch.load('../Trained_models/modernUnet-best.pth'))\n",
    "#model.load_state_dict(torch.load('./model_best.pth'))\n",
    "\n",
    "\n",
    "\n",
    "#eval.single_IOU(target, prediction)"
   ]
  },
  {
   "cell_type": "code",
   "execution_count": null,
   "metadata": {},
   "outputs": [],
   "source": [
    "image, target = eval.getRandomImageAndTarget(val_set)\n",
    "prediction = eval.predict(image, model.cuda(),'cuda', (256,512))\n",
    "eval.showImageTargetAndPrediction(image, target, prediction)\n",
    "eval.showPixelValues(image)"
   ]
  },
  {
   "cell_type": "code",
   "execution_count": null,
   "metadata": {},
   "outputs": [],
   "source": [
    "eval.DICE(val_dl,model.cuda(),'cuda',(256,512))"
   ]
  },
  {
   "cell_type": "code",
   "execution_count": null,
   "metadata": {},
   "outputs": [],
   "source": []
  }
 ],
 "metadata": {
  "kernelspec": {
   "display_name": "torch",
   "language": "python",
   "name": "python3"
  },
  "language_info": {
   "codemirror_mode": {
    "name": "ipython",
    "version": 3
   },
   "file_extension": ".py",
   "mimetype": "text/x-python",
   "name": "python",
   "nbconvert_exporter": "python",
   "pygments_lexer": "ipython3",
   "version": "3.12.2"
  }
 },
 "nbformat": 4,
 "nbformat_minor": 2
}
