{
 "cells": [
  {
   "cell_type": "code",
   "execution_count": 1,
   "metadata": {},
   "outputs": [],
   "source": [
    "import process_data\n",
    "import utils\n",
    "import numpy as np"
   ]
  },
  {
   "cell_type": "code",
   "execution_count": 2,
   "metadata": {},
   "outputs": [
    {
     "name": "stdout",
     "output_type": "stream",
     "text": [
      "Size of the training set: 2380\n",
      "Size of the validation set: 595\n"
     ]
    },
    {
     "data": {
      "text/plain": [
       "0.4781192387933879"
      ]
     },
     "execution_count": 2,
     "metadata": {},
     "output_type": "execute_result"
    }
   ],
   "source": [
    "import eval\n",
    "import data\n",
    "import model\n",
    "import torch\n",
    "\n",
    "train_set, val_set = data.loadData(root=\"E:/CityScapes\", subsize=(256,512),verbose=True)\n",
    "model = model.Model()\n",
    "model.load_state_dict(torch.load('../Trained_models/Trash/3-0.pth'))\n",
    "\n",
    "image, target = eval.getRandomImageAndTarget(val_set)\n",
    "prediction = eval.predict(image, model.cuda(),'cuda', (256,512))\n",
    "\n",
    "eval.single_IOU(target, prediction)"
   ]
  },
  {
   "cell_type": "code",
   "execution_count": 3,
   "metadata": {},
   "outputs": [],
   "source": [
    "train_dl, val_dl = data.getDataLoader(train_set, val_set, 8)\n"
   ]
  },
  {
   "cell_type": "code",
   "execution_count": 20,
   "metadata": {},
   "outputs": [],
   "source": [
    "batch = next(iter(val_dl))"
   ]
  },
  {
   "cell_type": "code",
   "execution_count": null,
   "metadata": {},
   "outputs": [],
   "source": [
    "batch[1].size()"
   ]
  },
  {
   "cell_type": "code",
   "execution_count": 21,
   "metadata": {},
   "outputs": [
    {
     "data": {
      "text/plain": [
       "(8, 256, 512)"
      ]
     },
     "execution_count": 21,
     "metadata": {},
     "output_type": "execute_result"
    }
   ],
   "source": [
    "prediction = process_data.postprocess(model(batch[0].float().to('cuda')), (256,512))\n",
    "np.shape(prediction)"
   ]
  },
  {
   "cell_type": "code",
   "execution_count": 22,
   "metadata": {},
   "outputs": [
    {
     "data": {
      "text/plain": [
       "(8, 256, 512)"
      ]
     },
     "execution_count": 22,
     "metadata": {},
     "output_type": "execute_result"
    }
   ],
   "source": [
    "target = utils.map_id_to_train_id(batch[1])\n",
    "target = target.squeeze().cpu().numpy()\n",
    "np.shape(target)"
   ]
  },
  {
   "cell_type": "code",
   "execution_count": 23,
   "metadata": {},
   "outputs": [
    {
     "data": {
      "text/plain": [
       "0.48730083894034537"
      ]
     },
     "execution_count": 23,
     "metadata": {},
     "output_type": "execute_result"
    }
   ],
   "source": [
    "\n",
    "eval.batch_IOU(target, prediction)\n"
   ]
  },
  {
   "cell_type": "code",
   "execution_count": null,
   "metadata": {},
   "outputs": [],
   "source": [
    "np.shape(np.where(target[4] == 0, 1, 0))"
   ]
  },
  {
   "cell_type": "code",
   "execution_count": null,
   "metadata": {},
   "outputs": [],
   "source": [
    "\n",
    "np.shape(batch[1].squeeze().cpu().numpy())"
   ]
  },
  {
   "cell_type": "code",
   "execution_count": 28,
   "metadata": {},
   "outputs": [
    {
     "name": "stdout",
     "output_type": "stream",
     "text": [
      "torch.Size([8, 3, 256, 512])\n",
      "torch.Size([8, 3, 256, 512])\n",
      "torch.Size([8, 3, 256, 512])\n",
      "torch.Size([8, 3, 256, 512])\n",
      "torch.Size([8, 3, 256, 512])\n",
      "torch.Size([8, 3, 256, 512])\n",
      "torch.Size([8, 3, 256, 512])\n",
      "torch.Size([8, 3, 256, 512])\n",
      "torch.Size([8, 3, 256, 512])\n",
      "torch.Size([8, 3, 256, 512])\n",
      "torch.Size([8, 3, 256, 512])\n",
      "torch.Size([8, 3, 256, 512])\n",
      "torch.Size([8, 3, 256, 512])\n",
      "torch.Size([8, 3, 256, 512])\n",
      "torch.Size([8, 3, 256, 512])\n",
      "torch.Size([8, 3, 256, 512])\n",
      "torch.Size([8, 3, 256, 512])\n",
      "torch.Size([8, 3, 256, 512])\n",
      "torch.Size([8, 3, 256, 512])\n",
      "torch.Size([8, 3, 256, 512])\n",
      "torch.Size([8, 3, 256, 512])\n",
      "torch.Size([8, 3, 256, 512])\n",
      "torch.Size([8, 3, 256, 512])\n",
      "torch.Size([8, 3, 256, 512])\n",
      "torch.Size([8, 3, 256, 512])\n",
      "torch.Size([8, 3, 256, 512])\n",
      "torch.Size([8, 3, 256, 512])\n",
      "torch.Size([8, 3, 256, 512])\n",
      "torch.Size([8, 3, 256, 512])\n",
      "torch.Size([8, 3, 256, 512])\n",
      "torch.Size([8, 3, 256, 512])\n",
      "torch.Size([8, 3, 256, 512])\n",
      "torch.Size([8, 3, 256, 512])\n",
      "torch.Size([8, 3, 256, 512])\n",
      "torch.Size([8, 3, 256, 512])\n",
      "torch.Size([8, 3, 256, 512])\n",
      "torch.Size([8, 3, 256, 512])\n",
      "torch.Size([8, 3, 256, 512])\n",
      "torch.Size([8, 3, 256, 512])\n",
      "torch.Size([8, 3, 256, 512])\n",
      "torch.Size([8, 3, 256, 512])\n",
      "torch.Size([8, 3, 256, 512])\n",
      "torch.Size([8, 3, 256, 512])\n",
      "torch.Size([8, 3, 256, 512])\n",
      "torch.Size([8, 3, 256, 512])\n",
      "torch.Size([8, 3, 256, 512])\n",
      "torch.Size([8, 3, 256, 512])\n",
      "torch.Size([8, 3, 256, 512])\n",
      "torch.Size([8, 3, 256, 512])\n",
      "torch.Size([8, 3, 256, 512])\n",
      "torch.Size([8, 3, 256, 512])\n",
      "torch.Size([8, 3, 256, 512])\n",
      "torch.Size([8, 3, 256, 512])\n",
      "torch.Size([8, 3, 256, 512])\n",
      "torch.Size([8, 3, 256, 512])\n",
      "torch.Size([8, 3, 256, 512])\n",
      "torch.Size([8, 3, 256, 512])\n",
      "torch.Size([8, 3, 256, 512])\n",
      "torch.Size([8, 3, 256, 512])\n",
      "torch.Size([8, 3, 256, 512])\n",
      "torch.Size([8, 3, 256, 512])\n",
      "torch.Size([8, 3, 256, 512])\n",
      "torch.Size([8, 3, 256, 512])\n",
      "torch.Size([8, 3, 256, 512])\n",
      "torch.Size([8, 3, 256, 512])\n",
      "torch.Size([8, 3, 256, 512])\n",
      "torch.Size([8, 3, 256, 512])\n",
      "torch.Size([8, 3, 256, 512])\n",
      "torch.Size([8, 3, 256, 512])\n",
      "torch.Size([8, 3, 256, 512])\n",
      "torch.Size([8, 3, 256, 512])\n",
      "torch.Size([8, 3, 256, 512])\n",
      "torch.Size([8, 3, 256, 512])\n",
      "torch.Size([8, 3, 256, 512])\n",
      "torch.Size([3, 3, 256, 512])\n"
     ]
    }
   ],
   "source": [
    "for batch, (image,target) in enumerate(val_dl):\n",
    "    print(np.shape(image))"
   ]
  }
 ],
 "metadata": {
  "kernelspec": {
   "display_name": "torch",
   "language": "python",
   "name": "python3"
  },
  "language_info": {
   "codemirror_mode": {
    "name": "ipython",
    "version": 3
   },
   "file_extension": ".py",
   "mimetype": "text/x-python",
   "name": "python",
   "nbconvert_exporter": "python",
   "pygments_lexer": "ipython3",
   "version": "3.12.2"
  }
 },
 "nbformat": 4,
 "nbformat_minor": 2
}
