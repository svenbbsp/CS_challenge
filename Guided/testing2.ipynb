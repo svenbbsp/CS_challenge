{
 "cells": [
  {
   "cell_type": "code",
   "execution_count": 19,
   "metadata": {},
   "outputs": [],
   "source": [
    "from GTA5.dataset import GTA_5\n",
    "import numpy as np\n",
    "from torchvision import transforms\n",
    "import eval\n",
    "import utils\n",
    "from torch.utils.data import random_split, DataLoader"
   ]
  },
  {
   "cell_type": "code",
   "execution_count": 2,
   "metadata": {},
   "outputs": [],
   "source": [
    "trans = transforms.Compose([\n",
    "        transforms.ToTensor(),\n",
    "        transforms.Resize((256,512), interpolation= transforms.InterpolationMode.NEAREST),\n",
    "    ])"
   ]
  },
  {
   "cell_type": "code",
   "execution_count": null,
   "metadata": {},
   "outputs": [],
   "source": []
  },
  {
   "cell_type": "code",
   "execution_count": 24,
   "metadata": {},
   "outputs": [],
   "source": [
    "dataset = GTA_5('E:/GTA5',trans)"
   ]
  },
  {
   "cell_type": "code",
   "execution_count": 22,
   "metadata": {},
   "outputs": [],
   "source": [
    "dl = DataLoader(dataset)"
   ]
  },
  {
   "cell_type": "code",
   "execution_count": 25,
   "metadata": {},
   "outputs": [
    {
     "data": {
      "text/plain": [
       "10000"
      ]
     },
     "execution_count": 25,
     "metadata": {},
     "output_type": "execute_result"
    }
   ],
   "source": [
    "len(dataset)"
   ]
  },
  {
   "cell_type": "code",
   "execution_count": 16,
   "metadata": {},
   "outputs": [
    {
     "data": {
      "text/plain": [
       "tensor([[[0.0157, 0.0196, 0.3608,  ..., 0.1451, 0.1490, 0.1529],\n",
       "         [0.0157, 0.0196, 0.1255,  ..., 0.1529, 0.1529, 0.1490],\n",
       "         [0.0471, 0.0588, 0.0588,  ..., 0.1412, 0.1412, 0.1373],\n",
       "         ...,\n",
       "         [0.1804, 0.1843, 0.1961,  ..., 0.2745, 0.2588, 0.2471],\n",
       "         [0.1490, 0.1529, 0.1569,  ..., 0.2627, 0.2627, 0.2784],\n",
       "         [0.1843, 0.1922, 0.1765,  ..., 0.2745, 0.2510, 0.2471]],\n",
       "\n",
       "        [[0.0157, 0.0157, 0.2745,  ..., 0.1490, 0.1529, 0.1608],\n",
       "         [0.0157, 0.0157, 0.0941,  ..., 0.1569, 0.1529, 0.1529],\n",
       "         [0.0314, 0.0353, 0.0275,  ..., 0.1451, 0.1451, 0.1412],\n",
       "         ...,\n",
       "         [0.1843, 0.1882, 0.2000,  ..., 0.1922, 0.1882, 0.1804],\n",
       "         [0.1569, 0.1647, 0.1647,  ..., 0.1882, 0.1882, 0.2000],\n",
       "         [0.1961, 0.2039, 0.1922,  ..., 0.1922, 0.1843, 0.1804]],\n",
       "\n",
       "        [[0.0157, 0.0157, 0.2000,  ..., 0.1725, 0.1765, 0.1882],\n",
       "         [0.0157, 0.0157, 0.0745,  ..., 0.1804, 0.1804, 0.1804],\n",
       "         [0.0314, 0.0353, 0.0275,  ..., 0.1686, 0.1686, 0.1686],\n",
       "         ...,\n",
       "         [0.2078, 0.2157, 0.2314,  ..., 0.1725, 0.1686, 0.1647],\n",
       "         [0.1804, 0.1922, 0.1961,  ..., 0.1686, 0.1686, 0.1765],\n",
       "         [0.2275, 0.2392, 0.2275,  ..., 0.1765, 0.1725, 0.1686]]])"
      ]
     },
     "execution_count": 16,
     "metadata": {},
     "output_type": "execute_result"
    }
   ],
   "source": [
    "dataset[0][0]"
   ]
  },
  {
   "cell_type": "code",
   "execution_count": 17,
   "metadata": {},
   "outputs": [
    {
     "data": {
      "image/png": "[encoded data removed]",
      "text/plain": [
       "<Figure size 640x480 with 1 Axes>"
      ]
     },
     "metadata": {},
     "output_type": "display_data"
    }
   ],
   "source": [
    "eval.showPixelValues(dataset[0][0])"
   ]
  }
 ],
 "metadata": {
  "kernelspec": {
   "display_name": "torch",
   "language": "python",
   "name": "python3"
  },
  "language_info": {
   "codemirror_mode": {
    "name": "ipython",
    "version": 3
   },
   "file_extension": ".py",
   "mimetype": "text/x-python",
   "name": "python",
   "nbconvert_exporter": "python",
   "pygments_lexer": "ipython3",
   "version": "3.12.2"
  }
 },
 "nbformat": 4,
 "nbformat_minor": 2
}
