{
 "cells": [
  {
   "cell_type": "code",
   "execution_count": 1,
   "metadata": {},
   "outputs": [],
   "source": [
    "import data\n",
    "import training\n",
    "import eval"
   ]
  },
  {
   "cell_type": "code",
   "execution_count": 2,
   "metadata": {},
   "outputs": [],
   "source": [
    "#Laptop\n",
    "#root = \"C:/Users/20182573/Documents/CityScapes\"\n",
    "\n",
    "#Desktop\n",
    "root = 'E:/Cityscapes'"
   ]
  },
  {
   "cell_type": "code",
   "execution_count": 3,
   "metadata": {},
   "outputs": [
    {
     "name": "stdout",
     "output_type": "stream",
     "text": [
      "Size of the training set: 2380\n",
      "Size of the validation set: 595\n"
     ]
    }
   ],
   "source": [
    "transforms = data.getTransforms(subsize=(128,256))\n",
    "train_set, val_set = data.loadData(root=root, transforms=transforms,verbose=True)\n",
    "train_dl, val_dl = data.getDataLoader(train_set=train_set, val_set=val_set, batch_size=1)\n"
   ]
  },
  {
   "cell_type": "code",
   "execution_count": 4,
   "metadata": {},
   "outputs": [],
   "source": [
    "#eval.showImageAndTarget(train_dl)"
   ]
  },
  {
   "cell_type": "code",
   "execution_count": 5,
   "metadata": {},
   "outputs": [
    {
     "name": "stdout",
     "output_type": "stream",
     "text": [
      "1\n",
      "Working on device: cuda:0\n"
     ]
    }
   ],
   "source": [
    "from torch.utils.data import random_split, DataLoader\n",
    "subset_small, subset_big = random_split(train_set, [0.0001,0.9999])\n",
    "print(len(subset_small))\n",
    "overfit_dl = DataLoader(subset_small, batch_size=1)\n",
    "\n",
    "model, loss_fn, optimizer, device = training.buildModel(verbose=True)"
   ]
  },
  {
   "cell_type": "code",
   "execution_count": 6,
   "metadata": {},
   "outputs": [
    {
     "name": "stdout",
     "output_type": "stream",
     "text": [
      "loss: 3.565341  [    1/    1]\n",
      "loss: 3.306221  [    1/    1]\n",
      "loss: 3.124872  [    1/    1]\n",
      "loss: 2.985458  [    1/    1]\n",
      "loss: 2.859391  [    1/    1]\n",
      "loss: 2.739386  [    1/    1]\n",
      "loss: 2.620627  [    1/    1]\n",
      "loss: 2.510741  [    1/    1]\n",
      "loss: 2.397960  [    1/    1]\n",
      "loss: 2.316353  [    1/    1]\n",
      "loss: 2.230584  [    1/    1]\n",
      "loss: 2.177465  [    1/    1]\n",
      "loss: 2.111966  [    1/    1]\n",
      "loss: 2.051610  [    1/    1]\n",
      "loss: 1.993248  [    1/    1]\n",
      "loss: 1.949127  [    1/    1]\n",
      "loss: 1.902114  [    1/    1]\n",
      "loss: 1.865631  [    1/    1]\n",
      "loss: 1.826344  [    1/    1]\n",
      "loss: 1.793321  [    1/    1]\n",
      "loss: 1.760571  [    1/    1]\n",
      "loss: 1.726922  [    1/    1]\n",
      "loss: 1.699223  [    1/    1]\n",
      "loss: 1.669799  [    1/    1]\n",
      "loss: 1.641179  [    1/    1]\n",
      "loss: 1.616843  [    1/    1]\n",
      "loss: 1.591544  [    1/    1]\n",
      "loss: 1.566302  [    1/    1]\n",
      "loss: 1.543721  [    1/    1]\n",
      "loss: 1.520238  [    1/    1]\n",
      "loss: 1.497613  [    1/    1]\n",
      "loss: 1.476759  [    1/    1]\n",
      "loss: 1.454510  [    1/    1]\n",
      "loss: 1.434769  [    1/    1]\n",
      "loss: 1.414212  [    1/    1]\n",
      "loss: 1.394314  [    1/    1]\n",
      "loss: 1.375767  [    1/    1]\n",
      "loss: 1.356933  [    1/    1]\n",
      "loss: 1.338825  [    1/    1]\n",
      "loss: 1.320794  [    1/    1]\n",
      "loss: 1.303166  [    1/    1]\n",
      "loss: 1.285751  [    1/    1]\n",
      "loss: 1.269074  [    1/    1]\n",
      "loss: 1.253401  [    1/    1]\n",
      "loss: 1.240521  [    1/    1]\n",
      "loss: 1.227391  [    1/    1]\n",
      "loss: 1.208685  [    1/    1]\n",
      "loss: 1.191735  [    1/    1]\n",
      "loss: 1.178813  [    1/    1]\n",
      "loss: 1.162053  [    1/    1]\n",
      "loss: 1.149203  [    1/    1]\n",
      "loss: 1.133968  [    1/    1]\n",
      "loss: 1.120219  [    1/    1]\n",
      "loss: 1.106511  [    1/    1]\n",
      "loss: 1.092680  [    1/    1]\n",
      "loss: 1.079631  [    1/    1]\n",
      "loss: 1.066304  [    1/    1]\n",
      "loss: 1.053701  [    1/    1]\n",
      "loss: 1.040620  [    1/    1]\n",
      "loss: 1.028458  [    1/    1]\n",
      "loss: 1.015710  [    1/    1]\n",
      "loss: 1.003667  [    1/    1]\n",
      "loss: 0.991581  [    1/    1]\n",
      "loss: 0.979775  [    1/    1]\n",
      "loss: 0.968202  [    1/    1]\n",
      "loss: 0.956281  [    1/    1]\n",
      "loss: 0.945235  [    1/    1]\n",
      "loss: 0.933738  [    1/    1]\n",
      "loss: 0.922537  [    1/    1]\n",
      "loss: 0.911557  [    1/    1]\n",
      "loss: 0.900715  [    1/    1]\n",
      "loss: 0.890394  [    1/    1]\n",
      "loss: 0.880612  [    1/    1]\n",
      "loss: 0.870802  [    1/    1]\n",
      "loss: 0.861884  [    1/    1]\n",
      "loss: 0.849584  [    1/    1]\n",
      "loss: 0.841342  [    1/    1]\n",
      "loss: 0.834195  [    1/    1]\n",
      "loss: 0.822980  [    1/    1]\n",
      "loss: 0.811814  [    1/    1]\n",
      "loss: 0.800623  [    1/    1]\n",
      "loss: 0.792320  [    1/    1]\n",
      "loss: 0.781633  [    1/    1]\n",
      "loss: 0.772381  [    1/    1]\n",
      "loss: 0.763169  [    1/    1]\n",
      "loss: 0.753877  [    1/    1]\n",
      "loss: 0.744693  [    1/    1]\n",
      "loss: 0.735934  [    1/    1]\n",
      "loss: 0.726739  [    1/    1]\n",
      "loss: 0.718435  [    1/    1]\n",
      "loss: 0.709449  [    1/    1]\n",
      "loss: 0.701434  [    1/    1]\n",
      "loss: 0.692364  [    1/    1]\n",
      "loss: 0.684712  [    1/    1]\n",
      "loss: 0.676248  [    1/    1]\n",
      "loss: 0.668085  [    1/    1]\n",
      "loss: 0.660098  [    1/    1]\n",
      "loss: 0.652422  [    1/    1]\n",
      "loss: 0.644438  [    1/    1]\n",
      "loss: 0.637239  [    1/    1]\n",
      "loss: 0.630038  [    1/    1]\n",
      "loss: 0.624377  [    1/    1]\n",
      "loss: 0.621781  [    1/    1]\n",
      "loss: 0.616710  [    1/    1]\n",
      "loss: 0.602255  [    1/    1]\n",
      "loss: 0.598377  [    1/    1]\n",
      "loss: 0.589175  [    1/    1]\n",
      "loss: 0.583355  [    1/    1]\n",
      "loss: 0.576178  [    1/    1]\n",
      "loss: 0.569012  [    1/    1]\n",
      "loss: 0.562784  [    1/    1]\n",
      "loss: 0.555304  [    1/    1]\n",
      "loss: 0.549931  [    1/    1]\n",
      "loss: 0.542423  [    1/    1]\n",
      "loss: 0.536885  [    1/    1]\n",
      "loss: 0.530458  [    1/    1]\n",
      "loss: 0.524374  [    1/    1]\n",
      "loss: 0.518988  [    1/    1]\n",
      "loss: 0.513603  [    1/    1]\n",
      "loss: 0.509984  [    1/    1]\n",
      "loss: 0.507362  [    1/    1]\n",
      "loss: 0.499719  [    1/    1]\n",
      "loss: 0.490641  [    1/    1]\n",
      "loss: 0.486884  [    1/    1]\n",
      "loss: 0.480885  [    1/    1]\n",
      "loss: 0.474719  [    1/    1]\n",
      "loss: 0.470449  [    1/    1]\n",
      "loss: 0.464116  [    1/    1]\n",
      "loss: 0.459761  [    1/    1]\n"
     ]
    },
    {
     "ename": "",
     "evalue": "",
     "output_type": "error",
     "traceback": [
      "\u001b[1;31mThe Kernel crashed while executing code in the current cell or a previous cell. \n",
      "\u001b[1;31mPlease review the code in the cell(s) to identify a possible cause of the failure. \n",
      "\u001b[1;31mClick <a href='https://aka.ms/vscodeJupyterKernelCrash'>here</a> for more info. \n",
      "\u001b[1;31mView Jupyter <a href='command:jupyter.viewOutput'>log</a> for further details."
     ]
    }
   ],
   "source": [
    "for i in range(200):\n",
    "    training.trainModel(dataloader=overfit_dl, model=model, loss_fn=loss_fn,optimizer=optimizer,device=device,wenb=False,verbose=True)"
   ]
  },
  {
   "cell_type": "code",
   "execution_count": null,
   "metadata": {},
   "outputs": [],
   "source": [
    "eval.showImageTargetAndPrediction(overfit_dl,model)"
   ]
  },
  {
   "cell_type": "code",
   "execution_count": null,
   "metadata": {},
   "outputs": [],
   "source": [
    "eval.showPixelValues(overfit_dl, model)"
   ]
  }
 ],
 "metadata": {
  "kernelspec": {
   "display_name": "Q2-5LSH0",
   "language": "python",
   "name": "python3"
  },
  "language_info": {
   "codemirror_mode": {
    "name": "ipython",
    "version": 3
   },
   "file_extension": ".py",
   "mimetype": "text/x-python",
   "name": "python",
   "nbconvert_exporter": "python",
   "pygments_lexer": "ipython3",
   "version": "3.12.2"
  }
 },
 "nbformat": 4,
 "nbformat_minor": 2
}
