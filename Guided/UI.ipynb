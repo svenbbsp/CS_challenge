{
 "cells": [
  {
   "cell_type": "code",
   "execution_count": 1,
   "metadata": {},
   "outputs": [],
   "source": [
    "import data\n",
    "import training"
   ]
  },
  {
   "cell_type": "code",
   "execution_count": 2,
   "metadata": {},
   "outputs": [
    {
     "name": "stdout",
     "output_type": "stream",
     "text": [
      "Size of the training set: 2380\n",
      "Size of the validation set: 595\n"
     ]
    }
   ],
   "source": [
    "transforms = data.getTransforms(subsize=(128,256))\n",
    "train_set, val_set = data.loadData(root=\"C:/Users/20182573/Documents/CityScapes\", transforms=transforms,verbose=True)\n",
    "train_dl, val_dl = data.getDataLoader(train_set=train_set, val_set=val_set, batch_size=1)\n"
   ]
  },
  {
   "cell_type": "code",
   "execution_count": 3,
   "metadata": {},
   "outputs": [
    {
     "name": "stdout",
     "output_type": "stream",
     "text": [
      "3\n",
      "Working on device: cuda:0\n",
      "loss: 3.623921  [    1/    3]\n",
      "loss: 3.534876  [    2/    3]\n",
      "loss: 3.211728  [    3/    3]\n"
     ]
    }
   ],
   "source": [
    "from torch.utils.data import random_split, DataLoader\n",
    "subset_small, subset_big = random_split(train_set, [0.001,0.999])\n",
    "print(len(subset_small))\n",
    "overfit_dl = DataLoader(subset_small, batch_size=1)\n",
    "\n",
    "model, loss_fn, optimizer, device = training.buildModel(verbose=True)\n",
    "training.trainModel(dataloader=overfit_dl, model=model, loss_fn=loss_fn,optimizer=optimizer,device=device,wenb=False,verbose=True)"
   ]
  },
  {
   "cell_type": "code",
   "execution_count": 8,
   "metadata": {},
   "outputs": [
    {
     "name": "stdout",
     "output_type": "stream",
     "text": [
      "loss: 0.209427  [    1/    3]\n",
      "loss: 0.127929  [    2/    3]\n",
      "loss: 0.133513  [    3/    3]\n",
      "loss: 0.206818  [    1/    3]\n",
      "loss: 0.125947  [    2/    3]\n",
      "loss: 0.131912  [    3/    3]\n",
      "loss: 0.204057  [    1/    3]\n",
      "loss: 0.123806  [    2/    3]\n",
      "loss: 0.130231  [    3/    3]\n",
      "loss: 0.201566  [    1/    3]\n",
      "loss: 0.121953  [    2/    3]\n",
      "loss: 0.129737  [    3/    3]\n",
      "loss: 0.199602  [    1/    3]\n",
      "loss: 0.120178  [    2/    3]\n",
      "loss: 0.127911  [    3/    3]\n",
      "loss: 0.197923  [    1/    3]\n",
      "loss: 0.118886  [    2/    3]\n",
      "loss: 0.124989  [    3/    3]\n",
      "loss: 0.196043  [    1/    3]\n",
      "loss: 0.117359  [    2/    3]\n",
      "loss: 0.122621  [    3/    3]\n",
      "loss: 0.194418  [    1/    3]\n",
      "loss: 0.116137  [    2/    3]\n",
      "loss: 0.122057  [    3/    3]\n",
      "loss: 0.190956  [    1/    3]\n",
      "loss: 0.118284  [    2/    3]\n",
      "loss: 0.121921  [    3/    3]\n",
      "loss: 0.189595  [    1/    3]\n",
      "loss: 0.118283  [    2/    3]\n",
      "loss: 0.119234  [    3/    3]\n",
      "loss: 0.188904  [    1/    3]\n",
      "loss: 0.113883  [    2/    3]\n",
      "loss: 0.119509  [    3/    3]\n",
      "loss: 0.186599  [    1/    3]\n",
      "loss: 0.110367  [    2/    3]\n",
      "loss: 0.120477  [    3/    3]\n",
      "loss: 0.183561  [    1/    3]\n",
      "loss: 0.109861  [    2/    3]\n",
      "loss: 0.118921  [    3/    3]\n",
      "loss: 0.180894  [    1/    3]\n",
      "loss: 0.110067  [    2/    3]\n",
      "loss: 0.113774  [    3/    3]\n",
      "loss: 0.177318  [    1/    3]\n",
      "loss: 0.110246  [    2/    3]\n",
      "loss: 0.112318  [    3/    3]\n",
      "loss: 0.173978  [    1/    3]\n",
      "loss: 0.106050  [    2/    3]\n",
      "loss: 0.112627  [    3/    3]\n",
      "loss: 0.170842  [    1/    3]\n",
      "loss: 0.104429  [    2/    3]\n",
      "loss: 0.112887  [    3/    3]\n",
      "loss: 0.170719  [    1/    3]\n",
      "loss: 0.102642  [    2/    3]\n",
      "loss: 0.107649  [    3/    3]\n",
      "loss: 0.169543  [    1/    3]\n",
      "loss: 0.101272  [    2/    3]\n",
      "loss: 0.109804  [    3/    3]\n",
      "loss: 0.170422  [    1/    3]\n",
      "loss: 0.100495  [    2/    3]\n",
      "loss: 0.111478  [    3/    3]\n",
      "loss: 0.165902  [    1/    3]\n",
      "loss: 0.100783  [    2/    3]\n",
      "loss: 0.109179  [    3/    3]\n",
      "loss: 0.165843  [    1/    3]\n",
      "loss: 0.099921  [    2/    3]\n",
      "loss: 0.103023  [    3/    3]\n",
      "loss: 0.162090  [    1/    3]\n",
      "loss: 0.097148  [    2/    3]\n",
      "loss: 0.101293  [    3/    3]\n",
      "loss: 0.158364  [    1/    3]\n",
      "loss: 0.095045  [    2/    3]\n",
      "loss: 0.098347  [    3/    3]\n",
      "loss: 0.153997  [    1/    3]\n",
      "loss: 0.092156  [    2/    3]\n",
      "loss: 0.096131  [    3/    3]\n",
      "loss: 0.150181  [    1/    3]\n",
      "loss: 0.090349  [    2/    3]\n",
      "loss: 0.093548  [    3/    3]\n",
      "loss: 0.147062  [    1/    3]\n",
      "loss: 0.088272  [    2/    3]\n",
      "loss: 0.092036  [    3/    3]\n",
      "loss: 0.143813  [    1/    3]\n",
      "loss: 0.086550  [    2/    3]\n",
      "loss: 0.089515  [    3/    3]\n",
      "loss: 0.140963  [    1/    3]\n",
      "loss: 0.084843  [    2/    3]\n",
      "loss: 0.087510  [    3/    3]\n",
      "loss: 0.138000  [    1/    3]\n",
      "loss: 0.083553  [    2/    3]\n",
      "loss: 0.086834  [    3/    3]\n",
      "loss: 0.135650  [    1/    3]\n",
      "loss: 0.082224  [    2/    3]\n",
      "loss: 0.085589  [    3/    3]\n",
      "loss: 0.132834  [    1/    3]\n",
      "loss: 0.080806  [    2/    3]\n",
      "loss: 0.084307  [    3/    3]\n",
      "loss: 0.130862  [    1/    3]\n",
      "loss: 0.079331  [    2/    3]\n",
      "loss: 0.083238  [    3/    3]\n",
      "loss: 0.129261  [    1/    3]\n",
      "loss: 0.077842  [    2/    3]\n",
      "loss: 0.081174  [    3/    3]\n",
      "loss: 0.127840  [    1/    3]\n",
      "loss: 0.076639  [    2/    3]\n",
      "loss: 0.080291  [    3/    3]\n",
      "loss: 0.126760  [    1/    3]\n",
      "loss: 0.075541  [    2/    3]\n",
      "loss: 0.077896  [    3/    3]\n",
      "loss: 0.123488  [    1/    3]\n",
      "loss: 0.075140  [    2/    3]\n",
      "loss: 0.076538  [    3/    3]\n",
      "loss: 0.120582  [    1/    3]\n",
      "loss: 0.072748  [    2/    3]\n",
      "loss: 0.074842  [    3/    3]\n",
      "loss: 0.118937  [    1/    3]\n",
      "loss: 0.071458  [    2/    3]\n",
      "loss: 0.073697  [    3/    3]\n",
      "loss: 0.117019  [    1/    3]\n",
      "loss: 0.069747  [    2/    3]\n",
      "loss: 0.071948  [    3/    3]\n"
     ]
    }
   ],
   "source": [
    "for i in range(40):\n",
    "    training.trainModel(dataloader=overfit_dl, model=model, loss_fn=loss_fn,optimizer=optimizer,device=device,wenb=False,verbose=True)"
   ]
  }
 ],
 "metadata": {
  "kernelspec": {
   "display_name": "Q2-5LSH0",
   "language": "python",
   "name": "python3"
  },
  "language_info": {
   "codemirror_mode": {
    "name": "ipython",
    "version": 3
   },
   "file_extension": ".py",
   "mimetype": "text/x-python",
   "name": "python",
   "nbconvert_exporter": "python",
   "pygments_lexer": "ipython3",
   "version": "3.8.18"
  }
 },
 "nbformat": 4,
 "nbformat_minor": 2
}
